{
  "nbformat": 4,
  "nbformat_minor": 0,
  "metadata": {
    "kernelspec": {
      "display_name": "Python 3",
      "language": "python",
      "name": "python3"
    },
    "language_info": {
      "codemirror_mode": {
        "name": "ipython",
        "version": 3
      },
      "file_extension": ".py",
      "mimetype": "text/x-python",
      "name": "python",
      "nbconvert_exporter": "python",
      "pygments_lexer": "ipython3",
      "version": "3.6.4"
    },
    "colab": {
      "name": "Copy of week2_assignment.ipynb",
      "provenance": []
    }
  },
  "cells": [
    {
      "cell_type": "code",
      "metadata": {
        "id": "4SMcdHyVAsc7",
        "colab_type": "code",
        "colab": {}
      },
      "source": [
        "import tensorflow as tf\n",
        "%matplotlib inline\n",
        "import numpy as np # linear algebra\n",
        "import seaborn as sns #statistical data visualization\n",
        "sns.set(style='whitegrid')\n",
        "import pandas as pd # data processing, CSV file I/O (e.g. pd.read_csv)\n",
        "import matplotlib.pyplot as plt"
      ],
      "execution_count": 0,
      "outputs": []
    },
    {
      "cell_type": "code",
      "metadata": {
        "id": "y3ZmKRgfAsdI",
        "colab_type": "code",
        "outputId": "5eaac48e-df30-43b0-93d5-46c0d7ac5061",
        "colab": {
          "base_uri": "https://localhost:8080/",
          "height": 202
        }
      },
      "source": [
        "#https://gist.githubusercontent.com/curran/a08a1080b88344b0c8a7/raw/639388c2cbc2120a14dcf466e85730eb8be498bb/iris.csv\n",
        "#link to download the CSV file\n",
        "#line1-------------\n",
        "url='https://gist.githubusercontent.com/curran/a08a1080b88344b0c8a7/raw/639388c2cbc2120a14dcf466e85730eb8be498bb/iris.csv'\n",
        "Iris=pd.read_csv(url, error_bad_lines=False)\n",
        "Iris.head()"
      ],
      "execution_count": 0,
      "outputs": [
        {
          "output_type": "execute_result",
          "data": {
            "text/html": [
              "<div>\n",
              "<style scoped>\n",
              "    .dataframe tbody tr th:only-of-type {\n",
              "        vertical-align: middle;\n",
              "    }\n",
              "\n",
              "    .dataframe tbody tr th {\n",
              "        vertical-align: top;\n",
              "    }\n",
              "\n",
              "    .dataframe thead th {\n",
              "        text-align: right;\n",
              "    }\n",
              "</style>\n",
              "<table border=\"1\" class=\"dataframe\">\n",
              "  <thead>\n",
              "    <tr style=\"text-align: right;\">\n",
              "      <th></th>\n",
              "      <th>sepal_length</th>\n",
              "      <th>sepal_width</th>\n",
              "      <th>petal_length</th>\n",
              "      <th>petal_width</th>\n",
              "      <th>species</th>\n",
              "    </tr>\n",
              "  </thead>\n",
              "  <tbody>\n",
              "    <tr>\n",
              "      <th>0</th>\n",
              "      <td>5.1</td>\n",
              "      <td>3.5</td>\n",
              "      <td>1.4</td>\n",
              "      <td>0.2</td>\n",
              "      <td>setosa</td>\n",
              "    </tr>\n",
              "    <tr>\n",
              "      <th>1</th>\n",
              "      <td>4.9</td>\n",
              "      <td>3.0</td>\n",
              "      <td>1.4</td>\n",
              "      <td>0.2</td>\n",
              "      <td>setosa</td>\n",
              "    </tr>\n",
              "    <tr>\n",
              "      <th>2</th>\n",
              "      <td>4.7</td>\n",
              "      <td>3.2</td>\n",
              "      <td>1.3</td>\n",
              "      <td>0.2</td>\n",
              "      <td>setosa</td>\n",
              "    </tr>\n",
              "    <tr>\n",
              "      <th>3</th>\n",
              "      <td>4.6</td>\n",
              "      <td>3.1</td>\n",
              "      <td>1.5</td>\n",
              "      <td>0.2</td>\n",
              "      <td>setosa</td>\n",
              "    </tr>\n",
              "    <tr>\n",
              "      <th>4</th>\n",
              "      <td>5.0</td>\n",
              "      <td>3.6</td>\n",
              "      <td>1.4</td>\n",
              "      <td>0.2</td>\n",
              "      <td>setosa</td>\n",
              "    </tr>\n",
              "  </tbody>\n",
              "</table>\n",
              "</div>"
            ],
            "text/plain": [
              "   sepal_length  sepal_width  petal_length  petal_width species\n",
              "0           5.1          3.5           1.4          0.2  setosa\n",
              "1           4.9          3.0           1.4          0.2  setosa\n",
              "2           4.7          3.2           1.3          0.2  setosa\n",
              "3           4.6          3.1           1.5          0.2  setosa\n",
              "4           5.0          3.6           1.4          0.2  setosa"
            ]
          },
          "metadata": {
            "tags": []
          },
          "execution_count": 25
        }
      ]
    },
    {
      "cell_type": "code",
      "metadata": {
        "id": "uczyVN_rAsdV",
        "colab_type": "code",
        "outputId": "249570d8-f207-4f83-a072-e851b4cb43ae",
        "colab": {
          "base_uri": "https://localhost:8080/",
          "height": 35
        }
      },
      "source": [
        "Iris.shape"
      ],
      "execution_count": 0,
      "outputs": [
        {
          "output_type": "execute_result",
          "data": {
            "text/plain": [
              "(150, 5)"
            ]
          },
          "metadata": {
            "tags": []
          },
          "execution_count": 26
        }
      ]
    },
    {
      "cell_type": "code",
      "metadata": {
        "id": "sr-N6tcDAsde",
        "colab_type": "code",
        "outputId": "c4f58186-2a0d-416d-9fba-033730a16633",
        "colab": {
          "base_uri": "https://localhost:8080/",
          "height": 35
        }
      },
      "source": [
        "#since we are gonna perform binary classification using Logistic Regression we will only include first 100 samples which consists of irises’ (Setosa and Versicolour)\n",
        "#line2-------------\n",
        "url='https://gist.githubusercontent.com/curran/a08a1080b88344b0c8a7/raw/639388c2cbc2120a14dcf466e85730eb8be498bb/iris.csv'\n",
        "Iris=pd.read_csv(url, error_bad_lines=False)\n",
        "Iris = Iris.loc[(Iris['species'] == 'setosa')|(Iris['species'] == 'versicolor')]\n",
        "Iris.shape"
      ],
      "execution_count": 0,
      "outputs": [
        {
          "output_type": "execute_result",
          "data": {
            "text/plain": [
              "(100, 5)"
            ]
          },
          "metadata": {
            "tags": []
          },
          "execution_count": 27
        }
      ]
    },
    {
      "cell_type": "code",
      "metadata": {
        "id": "c-nlP7J8Asdo",
        "colab_type": "code",
        "colab": {}
      },
      "source": [
        "'''Step 2: Numerical processing\n",
        "replace 'Iris-setosa' as 0\n",
        "replace 'Iris-versicolor' as 1'''\n",
        "#line3-------------------------\n",
        "Iris[:50]\n",
        "Iris=Iris.replace(to_replace=\"setosa\",value=0) #change setosa to 0 and save it \n",
        "Iris[51:100]\n",
        "Iris=Iris.replace(to_replace=\"versicolor\",value=1) #change versicolor to 1 and save it\n",
        "\n",
        "\n",
        "\n"
      ],
      "execution_count": 0,
      "outputs": []
    },
    {
      "cell_type": "code",
      "metadata": {
        "id": "fk6sZhSyAsdx",
        "colab_type": "code",
        "outputId": "3a3bab36-7cea-47ab-c7b4-5c1f06c31c94",
        "colab": {
          "base_uri": "https://localhost:8080/",
          "height": 202
        }
      },
      "source": [
        "\n",
        "Iris.head()"
      ],
      "execution_count": 0,
      "outputs": [
        {
          "output_type": "execute_result",
          "data": {
            "text/html": [
              "<div>\n",
              "<style scoped>\n",
              "    .dataframe tbody tr th:only-of-type {\n",
              "        vertical-align: middle;\n",
              "    }\n",
              "\n",
              "    .dataframe tbody tr th {\n",
              "        vertical-align: top;\n",
              "    }\n",
              "\n",
              "    .dataframe thead th {\n",
              "        text-align: right;\n",
              "    }\n",
              "</style>\n",
              "<table border=\"1\" class=\"dataframe\">\n",
              "  <thead>\n",
              "    <tr style=\"text-align: right;\">\n",
              "      <th></th>\n",
              "      <th>sepal_length</th>\n",
              "      <th>sepal_width</th>\n",
              "      <th>petal_length</th>\n",
              "      <th>petal_width</th>\n",
              "      <th>species</th>\n",
              "    </tr>\n",
              "  </thead>\n",
              "  <tbody>\n",
              "    <tr>\n",
              "      <th>0</th>\n",
              "      <td>5.1</td>\n",
              "      <td>3.5</td>\n",
              "      <td>1.4</td>\n",
              "      <td>0.2</td>\n",
              "      <td>0</td>\n",
              "    </tr>\n",
              "    <tr>\n",
              "      <th>1</th>\n",
              "      <td>4.9</td>\n",
              "      <td>3.0</td>\n",
              "      <td>1.4</td>\n",
              "      <td>0.2</td>\n",
              "      <td>0</td>\n",
              "    </tr>\n",
              "    <tr>\n",
              "      <th>2</th>\n",
              "      <td>4.7</td>\n",
              "      <td>3.2</td>\n",
              "      <td>1.3</td>\n",
              "      <td>0.2</td>\n",
              "      <td>0</td>\n",
              "    </tr>\n",
              "    <tr>\n",
              "      <th>3</th>\n",
              "      <td>4.6</td>\n",
              "      <td>3.1</td>\n",
              "      <td>1.5</td>\n",
              "      <td>0.2</td>\n",
              "      <td>0</td>\n",
              "    </tr>\n",
              "    <tr>\n",
              "      <th>4</th>\n",
              "      <td>5.0</td>\n",
              "      <td>3.6</td>\n",
              "      <td>1.4</td>\n",
              "      <td>0.2</td>\n",
              "      <td>0</td>\n",
              "    </tr>\n",
              "  </tbody>\n",
              "</table>\n",
              "</div>"
            ],
            "text/plain": [
              "   sepal_length  sepal_width  petal_length  petal_width  species\n",
              "0           5.1          3.5           1.4          0.2        0\n",
              "1           4.9          3.0           1.4          0.2        0\n",
              "2           4.7          3.2           1.3          0.2        0\n",
              "3           4.6          3.1           1.5          0.2        0\n",
              "4           5.0          3.6           1.4          0.2        0"
            ]
          },
          "metadata": {
            "tags": []
          },
          "execution_count": 29
        }
      ]
    },
    {
      "cell_type": "code",
      "metadata": {
        "id": "sV2KU86UAsd8",
        "colab_type": "code",
        "outputId": "9ff0f7de-e313-42ea-c86f-6753c626a72e",
        "colab": {
          "base_uri": "https://localhost:8080/",
          "height": 301
        }
      },
      "source": [
        "#visualization of given dataset\n",
        "#codesegment4------------------\n",
        "x=Iris.sepal_length\n",
        "y=Iris.sepal_width\n",
        "plt.scatter(x,y,c='red')\n",
        "plt.xlabel('SepalLength')\n",
        "plt.ylabel('SepalWidth')\n",
        "plt.title('SepalLengh vs SepalWidth')\n",
        "plt.show()\n"
      ],
      "execution_count": 0,
      "outputs": [
        {
          "output_type": "display_data",
          "data": {
            "image/png": "[encoded data removed]",
            "text/plain": [
              "<Figure size 432x288 with 1 Axes>"
            ]
          },
          "metadata": {
            "tags": []
          }
        }
      ]
    },
    {
      "cell_type": "code",
      "metadata": {
        "id": "yeTgf1twAseF",
        "colab_type": "code",
        "colab": {}
      },
      "source": [
        "X = Iris.drop(labels=['species'], axis=1).values #feature matrix\n",
        "Y = Iris.species.values #output"
      ],
      "execution_count": 0,
      "outputs": []
    },
    {
      "cell_type": "code",
      "metadata": {
        "id": "7IJQT2GxAseO",
        "colab_type": "code",
        "colab": {}
      },
      "source": [
        "'''Step 3: Split data\n",
        "trainset: 80%\n",
        "testset: 20%'''\n",
        "# set seed for numpy and tensorflow\n",
        "\n",
        "# set for reproducible results\n",
        "seed = 5\n",
        "#line5-------------\n",
        "np.random.seed(seed)\n",
        "tf.random.set_seed(seed)\n",
        "#line6-------------\n",
        "# x is your dataset\n",
        "Iris = np.random.rand(100, 5)\n",
        "indices = np.random.permutation(Iris.shape[0])\n",
        "train_index, test_index = indices[:80], indices[80:]\n",
        "training, test = Iris[train_index,:], Iris[test_index,:]\n",
        "#randomnly select 80% of the indices under variable train_index and rest under test_index\n",
        "#line7-----------------------------------------------\n",
        "test_index = np.array(list(set(range(len(X))) - set(train_index)))\n",
        "test_index = np.array(list(set(range(len(X))) - set(train_index)))"
      ],
      "execution_count": 0,
      "outputs": []
    },
    {
      "cell_type": "code",
      "metadata": {
        "id": "6VgP67hRAseW",
        "colab_type": "code",
        "colab": {}
      },
      "source": [
        "train_X = X[train_index]\n",
        "train_y = Y[train_index]\n",
        "test_X = X[test_index]\n",
        "test_y = Y[test_index]"
      ],
      "execution_count": 0,
      "outputs": []
    },
    {
      "cell_type": "code",
      "metadata": {
        "id": "-8ZTloseAsef",
        "colab_type": "code",
        "outputId": "4d18fbc0-4f89-4bd8-a658-345ef8dd0e7c",
        "colab": {
          "base_uri": "https://localhost:8080/",
          "height": 55
        }
      },
      "source": [
        "\n",
        "# Define the min-max normalization function\n",
        "def min_max_normalized(Iris): # we are using here min-max normalisation, helpful to bring down every values in all the feature columns of the dataset to common scale \n",
        "#codesegment8------------------\n",
        "    min = np.min(Iris)\n",
        "    max = np.max(Iris)\n",
        "    range = max - min\n",
        "\n",
        "    return [(a - min) / range for a in Iris]\n",
        "normalised=min_max_normalized(Iris)  \n",
        "print(normalised)   "
      ],
      "execution_count": 0,
      "outputs": [
        {
          "output_type": "stream",
          "text": [
            "[array([0.22202483, 0.8719775 , 0.20672224, 0.91994567, 0.48894121]), array([0.61250459, 0.76695697, 0.51900414, 0.29697209, 0.18768877]), array([0.08050869, 0.73943803, 0.44175113, 0.15822239, 0.88119945]), array([0.27421556, 0.41462628, 0.29625018, 0.62958052, 0.58053886]), array([0.60066783, 0.26593275, 0.28483481, 0.25367896, 0.32779308]), array([0.14405037, 0.16553905, 0.96535007, 0.96163932, 0.1883835 ]), array([0.02396842, 0.20455458, 0.70076914, 0.78058915, 0.02259238]), array([0.57835984, 0.00126163, 0.51605325, 0.64060838, 0.98708452]), array([0.25919866, 0.80361444, 0.87172782, 0.92409212, 0.00183474]), array([0.469983  , 0.98292108, 0.39930747, 0.81487105, 0.5470951 ]), array([0.77191245, 0.48545459, 0.02878241, 0.08630393, 0.11127869]), array([0.25133149, 0.96633667, 0.63256424, 0.81780425, 0.56675731]), array([0.6361611 , 0.81303754, 0.92803248, 0.91395033, 0.82597002]), array([0.09399534, 0.36134019, 0.03519185, 0.54699677, 0.79724839]), array([0.05085486, 0.18863705, 0.36577783, 0.24436423, 0.79619117]), array([0.35236996, 0.63968917, 0.49395443, 0.58420764, 0.94067281]), array([0.94492148, 0.11151775, 0.84474933, 0.34629183, 0.10063227]), array([0.38374267, 0.51092587, 0.96251733, 0.37182396, 0.01200894]), array([0.86093146, 0.11093498, 0.47885022, 0.85118641, 0.51531724]), array([0.44705965, 0.8015902 , 0.02004591, 0.57330619, 0.41176955]), array([0.986596  , 0.80251704, 0.05367943, 0.19045047, 0.45288154]), array([0.7038734 , 0.33228567, 0.36027298, 0.92281068, 0.95503078]), array([0.40806474, 0.89986843, 0.33048742, 0.08250973, 0.52731924]), array([0.66169697, 0.89427112, 0.96657938, 0.77098932, 0.76013549]), array([0.71099367, 0.70248156, 0.76838316, 0.97578851, 0.37402998]), array([0.0828262 , 0.23970511, 0.22151346, 0.36389634, 0.81144641]), array([0.05982498, 0.45020125, 0.81430805, 0.26434905, 0.06313597]), array([0.24217695, 0.08484599, 0.80890487, 0.17018494, 0.19532643]), array([0.81578229, 0.81141765, 0.59009276, 0.91606185, 0.05954993]), array([0.96641817, 0.57165968, 0.3027004 , 0.8268668 , 0.66026719]), array([0.9879632 , 0.107307  , 0.58162159, 0.47332903, 0.65310733]), array([0.24192787, 0.03080469, 0.54486679, 0.3650088 , 0.89361888]), array([0.45982125, 0.41905363, 0.63370586, 0.52778137, 0.96262559]), array([0.79010244, 0.49724103, 0.21115235, 0.60473036, 0.7495925 ]), array([0.75689415, 0.99497887, 0.2185229 , 0.42604993, 0.42425885]), array([0.31885889, 0.36563281, 0.47845175, 0.54272084, 0.26534278]), array([0.13423146, 0.3020672 , 0.13635179, 0.31791089, 0.68006956]), array([0.60208243, 0.99870729, 0.56158024, 0.54936904, 0.64316752]), array([0.72776531, 0.61658188, 0.58921731, 0.60575244, 0.35506552]), array([0.77845257, 0.60535069, 0.30942561, 0.24570687, 0.07101569]), array([0.34799603, 0.0124885 , 0.16556807, 0.06009574, 0.27829265]), array([0.34859998, 0.59194465, 0.77607927, 0.62553953, 0.15959603]), array([0.89505093, 0.73157431, 0.49831554, 0.64446061, 0.51004452]), array([0.1681392 , 0.6422811 , 0.98963264, 0.77138675, 0.18143708]), array([0.11960945, 0.93169855, 0.91141627, 0.75020249, 0.7615706 ]), array([0.14275945, 0.81307942, 0.19225537, 0.15465097, 0.40745684]), array([0.        , 0.84671585, 0.16105026, 0.74024998, 0.58361761]), array([0.77131726, 0.60073192, 0.96288242, 0.3801052 , 0.49755646]), array([0.33858794, 0.74375654, 0.30067437, 0.79989689, 0.08572695]), array([0.23572086, 0.43860493, 0.12589803, 0.20302817, 0.84273334]), array([0.37274552, 0.21870719, 0.847332  , 0.57606736, 0.63451831]), array([0.89020778, 0.71491099, 0.26522498, 0.00934286, 0.55010769]), array([0.70846613, 0.80681815, 0.19062937, 0.63501704, 0.939925  ]), array([0.25828574, 0.29264397, 0.42605662, 0.57186345, 0.99152396]), array([0.5889163 , 0.88917671, 0.65705519, 0.47327965, 0.30573648]), array([0.35045102, 0.7782044 , 0.17745749, 0.13780977, 0.21305988]), array([0.66978111, 0.37171609, 0.20650536, 0.33093941, 0.08139865]), array([0.43696853, 0.81234985, 0.44624276, 0.44776329, 0.02719635]), array([0.27911592, 0.0749275 , 0.04744407, 0.86481741, 0.7152702 ]), array([0.83160752, 0.1327708 , 0.36558616, 0.91454221, 0.43381498]), array([0.92699975, 0.96278282, 0.00623686, 0.43335682, 0.5838198 ]), array([0.34909649, 0.37635182, 0.35610357, 0.23108144, 0.02570234]), array([0.73216816, 1.        , 0.03803004, 0.86032165, 0.54493951]), array([0.01917286, 0.06856153, 0.52604879, 0.10437219, 0.29616752]), array([0.2749649 , 0.97203773, 0.47016144, 0.28533092, 0.93961358]), array([0.96815144, 0.720362  , 0.13675147, 0.89118004, 0.44170211]), array([0.78721431, 0.72245475, 0.65400229, 0.76802424, 0.81296527]), array([0.46214152, 0.48514354, 0.09718481, 0.3711729 , 0.8874083 ]), array([0.22030046, 0.74993244, 0.80775495, 0.19655192, 0.76564932]), array([0.6581923 , 0.97690031, 0.38863589, 0.75778198, 0.84514873]), array([0.37939813, 0.2237229 , 0.36854763, 0.65366747, 0.25748521]), array([0.85972125, 0.29536006, 0.76508027, 0.32126068, 0.5048822 ]), array([0.87543538, 0.48592106, 0.62497252, 0.34306569, 0.46906642]), array([0.06114529, 0.52035516, 0.44961073, 0.29915853, 0.17281688]), array([0.34091736, 0.29501846, 0.36283226, 0.80988332, 0.89689128]), array([0.91636139, 0.42196058, 0.89974456, 0.58779218, 0.99809177]), array([0.12411168, 0.75786369, 0.58898539, 0.51514497, 0.75925032]), array([0.83445687, 0.83225887, 0.34437904, 0.38100555, 0.59601507]), array([0.04256853, 0.81584567, 0.58673572, 0.44395074, 0.63894497]), array([0.95675507, 0.80533191, 0.65699349, 0.20754696, 0.97317016]), array([0.38745428, 0.90654605, 0.5016083 , 0.67328249, 0.88867936]), array([0.05811136, 0.29491439, 0.17764237, 0.04626912, 0.34206406]), array([0.91672949, 0.2528054 , 0.11286566, 0.94322316, 0.49385018]), array([0.47228995, 0.68874985, 0.81822967, 0.22694815, 0.20234777]), array([0.42490925, 0.84879486, 0.92847208, 0.19037592, 0.69036531]), array([0.44631912, 0.87936928, 0.29578047, 0.27032569, 0.02158931]), array([0.87259724, 0.1659868 , 0.27866861, 0.24640838, 0.92339338]), array([0.08139724, 0.33690459, 0.68132426, 0.16549125, 0.57835547]), array([0.42506784, 0.01278105, 0.607354  , 0.34718222, 0.21153897]), array([0.97659055, 0.84016802, 0.44916506, 0.32146637, 0.01374065]), array([0.72904817, 0.26643813, 0.51226352, 0.6268065 , 0.75393078]), array([0.15805839, 0.09110382, 0.77513152, 0.05117058, 0.40699434]), array([0.03570727, 0.20779393, 0.18936838, 0.84108835, 0.74394787]), array([0.24475031, 0.58688098, 0.49514041, 0.09094861, 0.3581033 ]), array([0.75172165, 0.1286248 , 0.23996583, 0.35670757, 0.0036457 ]), array([0.77451674, 0.39544729, 0.63947779, 0.52663468, 0.78044219]), array([0.65969402, 0.39911944, 0.12350934, 0.42441571, 0.00491393]), array([0.07792852, 0.83097705, 0.51735223, 0.7900371 , 0.74010989]), array([0.52840306, 0.72827236, 0.94520484, 0.94981663, 0.25452379]), array([0.90969951, 0.47152321, 0.20838951, 0.41053132, 0.58463982])]\n"
          ],
          "name": "stdout"
        }
      ]
    },
    {
      "cell_type": "code",
      "metadata": {
        "id": "DRPhEh7ft465",
        "colab_type": "code",
        "colab": {}
      },
      "source": [
        ""
      ],
      "execution_count": 0,
      "outputs": []
    },
    {
      "cell_type": "code",
      "metadata": {
        "id": "TBflQitBAser",
        "colab_type": "code",
        "outputId": "2cb00895-5f62-404c-8c8e-58f16b02830f",
        "colab": {
          "base_uri": "https://localhost:8080/",
          "height": 236
        }
      },
      "source": [
        "# Begin building the model framework\n",
        "# Declare the variables that need to be learned and initialization\n",
        "# There are 4 features here, so W's dimension is (4, 1)\n",
        "#line9----------------------------\n",
        "array=np.array(Iris,dtype=float)\n",
        " #weights\n",
        "arr_T=np.transpose(array)\n",
        "b = tf.Variable(tf.random.normal(shape=[1, 1])) #bias\n",
        "#constructor for random initialization\n",
        "\n",
        "a=(np.dot(arr_T,X)+b)\n",
        "#line10\n",
        "\n",
        "init=tf.compat.v1.global_variables_initializer(a)\n",
        "sess = tf.compat.v1.Session()\n",
        "sess.run(init)\n",
        "print(sess.run(a))"
      ],
      "execution_count": 0,
      "outputs": [
        {
          "output_type": "error",
          "ename": "TypeError",
          "evalue": "ignored",
          "traceback": [
            "\u001b[0;31m---------------------------------------------------------------------------\u001b[0m",
            "\u001b[0;31mTypeError\u001b[0m                                 Traceback (most recent call last)",
            "\u001b[0;32m<ipython-input-38-aa26df2f93e3>\u001b[0m in \u001b[0;36m<module>\u001b[0;34m()\u001b[0m\n\u001b[1;32m      8\u001b[0m \u001b[0;31m#line10\u001b[0m\u001b[0;34m\u001b[0m\u001b[0;34m\u001b[0m\u001b[0;34m\u001b[0m\u001b[0m\n\u001b[1;32m      9\u001b[0m \u001b[0;34m\u001b[0m\u001b[0m\n\u001b[0;32m---> 10\u001b[0;31m \u001b[0minit\u001b[0m\u001b[0;34m=\u001b[0m\u001b[0mtf\u001b[0m\u001b[0;34m.\u001b[0m\u001b[0mcompat\u001b[0m\u001b[0;34m.\u001b[0m\u001b[0mv1\u001b[0m\u001b[0;34m.\u001b[0m\u001b[0mglobal_variables_initializer\u001b[0m\u001b[0;34m(\u001b[0m\u001b[0ma\u001b[0m\u001b[0;34m)\u001b[0m\u001b[0;34m\u001b[0m\u001b[0;34m\u001b[0m\u001b[0m\n\u001b[0m\u001b[1;32m     11\u001b[0m \u001b[0msess\u001b[0m \u001b[0;34m=\u001b[0m \u001b[0mtf\u001b[0m\u001b[0;34m.\u001b[0m\u001b[0mcompat\u001b[0m\u001b[0;34m.\u001b[0m\u001b[0mv1\u001b[0m\u001b[0;34m.\u001b[0m\u001b[0mSession\u001b[0m\u001b[0;34m(\u001b[0m\u001b[0;34m)\u001b[0m\u001b[0;34m\u001b[0m\u001b[0;34m\u001b[0m\u001b[0m\n\u001b[1;32m     12\u001b[0m \u001b[0msess\u001b[0m\u001b[0;34m.\u001b[0m\u001b[0mrun\u001b[0m\u001b[0;34m(\u001b[0m\u001b[0minit\u001b[0m\u001b[0;34m)\u001b[0m\u001b[0;34m\u001b[0m\u001b[0;34m\u001b[0m\u001b[0m\n",
            "\u001b[0;31mTypeError\u001b[0m: global_variables_initializer() takes 0 positional arguments but 1 was given"
          ]
        }
      ]
    },
    {
      "cell_type": "code",
      "metadata": {
        "id": "4YUcYU_BAse2",
        "colab_type": "code",
        "outputId": "29220ab9-7f4e-4fb2-eea0-18f92be371c8",
        "colab": {
          "base_uri": "https://localhost:8080/",
          "height": 236
        }
      },
      "source": [
        "# Define placeholders\n",
        "data = tf.placeholder(dtype=tf.float32, shape=[None, 4])#comment on the difference between tf.placeholder and tf.variable-----\n",
        "target = tf.placeholder(dtype=tf.float32, shape=[None, 1])\n",
        "#The difference is that with tf.Variable you have to provide an initial value when you declare it.\n",
        "# With tf.placeholder you don't have to provide an initial value and\n",
        "# you can specify it at run time with the feed_dict argument inside Session.run"
      ],
      "execution_count": 0,
      "outputs": [
        {
          "output_type": "error",
          "ename": "AttributeError",
          "evalue": "ignored",
          "traceback": [
            "\u001b[0;31m---------------------------------------------------------------------------\u001b[0m",
            "\u001b[0;31mAttributeError\u001b[0m                            Traceback (most recent call last)",
            "\u001b[0;32m<ipython-input-23-dbf25e2a7402>\u001b[0m in \u001b[0;36m<module>\u001b[0;34m()\u001b[0m\n\u001b[0;32m----> 1\u001b[0;31m \u001b[0mdata\u001b[0m \u001b[0;34m=\u001b[0m \u001b[0mtf\u001b[0m\u001b[0;34m.\u001b[0m\u001b[0mplaceholder\u001b[0m\u001b[0;34m(\u001b[0m\u001b[0mdtype\u001b[0m\u001b[0;34m=\u001b[0m\u001b[0mtf\u001b[0m\u001b[0;34m.\u001b[0m\u001b[0mfloat32\u001b[0m\u001b[0;34m,\u001b[0m \u001b[0mshape\u001b[0m\u001b[0;34m=\u001b[0m\u001b[0;34m[\u001b[0m\u001b[0;32mNone\u001b[0m\u001b[0;34m,\u001b[0m \u001b[0;36m4\u001b[0m\u001b[0;34m]\u001b[0m\u001b[0;34m)\u001b[0m\u001b[0;31m#comment on the difference between tf.placeholder and tf.variable-----\u001b[0m\u001b[0;34m\u001b[0m\u001b[0;34m\u001b[0m\u001b[0m\n\u001b[0m\u001b[1;32m      2\u001b[0m \u001b[0mtarget\u001b[0m \u001b[0;34m=\u001b[0m \u001b[0mtf\u001b[0m\u001b[0;34m.\u001b[0m\u001b[0mplaceholder\u001b[0m\u001b[0;34m(\u001b[0m\u001b[0mdtype\u001b[0m\u001b[0;34m=\u001b[0m\u001b[0mtf\u001b[0m\u001b[0;34m.\u001b[0m\u001b[0mfloat32\u001b[0m\u001b[0;34m,\u001b[0m \u001b[0mshape\u001b[0m\u001b[0;34m=\u001b[0m\u001b[0;34m[\u001b[0m\u001b[0;32mNone\u001b[0m\u001b[0;34m,\u001b[0m \u001b[0;36m1\u001b[0m\u001b[0;34m]\u001b[0m\u001b[0;34m)\u001b[0m\u001b[0;34m\u001b[0m\u001b[0;34m\u001b[0m\u001b[0m\n\u001b[1;32m      3\u001b[0m \u001b[0;31m#The difference is that with tf.Variable you have to provide an initial value when you declare it.\u001b[0m\u001b[0;34m\u001b[0m\u001b[0;34m\u001b[0m\u001b[0;34m\u001b[0m\u001b[0m\n\u001b[1;32m      4\u001b[0m \u001b[0;31m# With tf.placeholder you don't have to provide an initial value and\u001b[0m\u001b[0;34m\u001b[0m\u001b[0;34m\u001b[0m\u001b[0;34m\u001b[0m\u001b[0m\n\u001b[1;32m      5\u001b[0m \u001b[0;31m# you can specify it at run time with the feed_dict argument inside Session.run\u001b[0m\u001b[0;34m\u001b[0m\u001b[0;34m\u001b[0m\u001b[0;34m\u001b[0m\u001b[0m\n",
            "\u001b[0;31mAttributeError\u001b[0m: module 'tensorflow' has no attribute 'placeholder'"
          ]
        }
      ]
    },
    {
      "cell_type": "code",
      "metadata": {
        "id": "Y-rRH12WAse-",
        "colab_type": "code",
        "colab": {}
      },
      "source": [
        "# Declare the 'model' you need to learn\n",
        "#line11-------------------------------------------\n",
        "#we use logistic regression model to do this"
      ],
      "execution_count": 0,
      "outputs": []
    },
    {
      "cell_type": "code",
      "metadata": {
        "id": "FnCiaeNGAsfG",
        "colab_type": "code",
        "colab": {}
      },
      "source": [
        "# Declare loss function\n",
        "loss=0.5*(a-target)^2\n",
        "# Use the sigmoid cross-entropy loss function,\n",
        "cost=1/(1+e^-a)\n",
        "# first doing a sigmoid on the model result and then using the cross-entropy loss function\n",
        "loss = tf.reduce_mean(tf.nn.sigmoid_cross_entropy_with_logits(logits=mod, labels=target))"
      ],
      "execution_count": 0,
      "outputs": []
    },
    {
      "cell_type": "code",
      "metadata": {
        "id": "CJ4y87cjAsfN",
        "colab_type": "code",
        "colab": {}
      },
      "source": [
        "# Define the learning rate， batch_size and number of iterations.\n",
        "#learning_rate\n",
        "#line12--------------------------------\n",
        "alpha=0.001\n",
        "#batch_size---- #using batch makes the training ------?\n",
        "#line13--------------------------------\n",
        "#iter_num"
      ],
      "execution_count": 0,
      "outputs": []
    },
    {
      "cell_type": "code",
      "metadata": {
        "id": "FVQoh-hDAsfV",
        "colab_type": "code",
        "colab": {}
      },
      "source": [
        "# Define the optimizer with name opt\n",
        "#line14-----------------------------\n",
        "# Define the goal\n",
        "goal = opt.minimize(loss)"
      ],
      "execution_count": 0,
      "outputs": []
    },
    {
      "cell_type": "code",
      "metadata": {
        "id": "SGt7Ch49Asfd",
        "colab_type": "code",
        "colab": {}
      },
      "source": [
        "# Define the accuracy\n",
        "# The default threshold is 0.5, rounded off directly\n",
        "prediction = tf.round(tf.sigmoid(mod))\n",
        "# Bool into float32 type\n",
        "correct = tf.cast(tf.equal(prediction, target), dtype=tf.float32)\n",
        "# Average\n",
        "accuracy = tf.reduce_mean(correct)\n",
        "# End of the definition of the model framework"
      ],
      "execution_count": 0,
      "outputs": []
    },
    {
      "cell_type": "code",
      "metadata": {
        "id": "ZN5KnOyFAsfo",
        "colab_type": "code",
        "colab": {}
      },
      "source": [
        "# Start training model\n",
        "# Define the variable that stores the result\n",
        "loss_trace = []\n",
        "train_acc = []"
      ],
      "execution_count": 0,
      "outputs": []
    },
    {
      "cell_type": "code",
      "metadata": {
        "id": "6nO2WlUXAsfv",
        "colab_type": "code",
        "outputId": "2fe4e34c-02ed-4d4b-a706-ab8bc1a6b4b9",
        "colab": {}
      },
      "source": [
        "# training model using mini-batch gradient descent\n",
        "for epoch in range(iter_num):\n",
        "    # Generate random batch_index\n",
        "    #line15------------------------------ #randomnly picks up up 30 sample data from the train_X\n",
        "    batch_train_X = train_X[batch_index]\n",
        "    batch_train_y = np.matrix(train_y[batch_index]).T\n",
        "    sess.run(goal, feed_dict={data: batch_train_X, target: batch_train_y})\n",
        "    temp_loss = sess.run(loss, feed_dict={data: batch_train_X, target: batch_train_y})\n",
        "    #Similarly store train accuracy value for current epoch using sess.run\n",
        "    #line16---------------------------\n",
        "    # recode the results of loss and train accuracy\n",
        "    #codesegment17---------------------\n",
        "    # output\n",
        "    if (epoch + 1) % 100 == 0:\n",
        "        print('epoch: {:4d} loss: {:5f} train_acc: {:5f} test_acc: {:5f}'.format(epoch + 1, temp_loss,\n",
        "                                                                          temp_train_acc, temp_test_acc))\n",
        "#Write the command to calculate test accuracy:\n",
        "#line18-------------------------------\n",
        "print(\"The test accuracy is: {:5f}\".format(temp_test_acc))"
      ],
      "execution_count": 0,
      "outputs": [
        {
          "output_type": "stream",
          "text": [
            "epoch:  100 loss: 0.305716 train_acc: 0.862500\n",
            "epoch:  200 loss: 0.144971 train_acc: 1.000000\n",
            "epoch:  300 loss: 0.157285 train_acc: 1.000000\n",
            "epoch:  400 loss: 0.150482 train_acc: 1.000000\n",
            "epoch:  500 loss: 0.138670 train_acc: 1.000000\n",
            "epoch:  600 loss: 0.112889 train_acc: 1.000000\n",
            "epoch:  700 loss: 0.119393 train_acc: 1.000000\n",
            "epoch:  800 loss: 0.128287 train_acc: 1.000000\n",
            "epoch:  900 loss: 0.116138 train_acc: 1.000000\n",
            "epoch: 1000 loss: 0.086197 train_acc: 1.000000\n",
            "epoch: 1100 loss: 0.104485 train_acc: 1.000000\n",
            "epoch: 1200 loss: 0.084130 train_acc: 1.000000\n",
            "epoch: 1300 loss: 0.091043 train_acc: 1.000000\n",
            "epoch: 1400 loss: 0.088923 train_acc: 1.000000\n",
            "epoch: 1500 loss: 0.081059 train_acc: 1.000000\n",
            "The test accuracy is: 1.000000\n"
          ],
          "name": "stdout"
        }
      ]
    },
    {
      "cell_type": "code",
      "metadata": {
        "id": "3Oh7BYwtAsf3",
        "colab_type": "code",
        "outputId": "f59fe915-5425-4d5b-bb72-833b3ab53c35",
        "colab": {}
      },
      "source": [
        "# Visualization of the results\n",
        "# loss function\n",
        "#codesegment19------------------------\n",
        "plt.show()"
      ],
      "execution_count": 0,
      "outputs": [
        {
          "output_type": "display_data",
          "data": {
            "image/png": "[encoded data removed]",
            "text/plain": [
              "<Figure size 432x288 with 1 Axes>"
            ]
          },
          "metadata": {
            "tags": []
          }
        }
      ]
    },
    {
      "cell_type": "code",
      "metadata": {
        "id": "Az9VTH91Asf_",
        "colab_type": "code",
        "outputId": "ed34de0c-40cf-4ad3-e622-343df5b23a04",
        "colab": {}
      },
      "source": [
        "# plot for training accuracy\n",
        "#codesegment20---------------------------\n",
        "plt.show()"
      ],
      "execution_count": 0,
      "outputs": [
        {
          "output_type": "display_data",
          "data": {
            "image/png": "[encoded data removed]",
            "text/plain": [
              "<Figure size 432x288 with 1 Axes>"
            ]
          },
          "metadata": {
            "tags": []
          }
        }
      ]
    }
  ]
}